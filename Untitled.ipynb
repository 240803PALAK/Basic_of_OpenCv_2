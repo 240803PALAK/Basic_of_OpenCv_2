{
 "cells": [
  {
   "cell_type": "code",
   "execution_count": 2,
   "id": "f359dca7-e0c7-466b-88fd-842d08bff5fb",
   "metadata": {},
   "outputs": [
    {
     "data": {
      "text/plain": [
       "-1"
      ]
     },
     "execution_count": 2,
     "metadata": {},
     "output_type": "execute_result"
    }
   ],
   "source": [
    "import cv2 as cv\n",
    "\n",
    "img=cv.imread('peacock.jpg')\n",
    "cv.imshow('peacock',img)\n",
    "\n",
    "# Gaussian Blur\n",
    "gauss=cv.GaussianBlur(img,(3,3),0)\n",
    "cv.imshow('Gaussian Blur',gauss)\n",
    "\n",
    "# Median Blur\n",
    "median=cv.medianBlur(img,3)\n",
    "cv.imshow('Median Blur',median)\n",
    "\n",
    "# Bilateral\n",
    "bilateral=cv.bilateralFilter(img,5,15,15)\n",
    "cv.imshow('Bilateral',bilateral)\n",
    "cv.waitKey(0)\n",
    "\n",
    "cv.waitKey(0)"
   ]
  },
  {
   "cell_type": "code",
   "execution_count": 4,
   "id": "187b472c-1111-4c78-a746-9071daa98e31",
   "metadata": {},
   "outputs": [
    {
     "data": {
      "text/plain": [
       "-1"
      ]
     },
     "execution_count": 4,
     "metadata": {},
     "output_type": "execute_result"
    }
   ],
   "source": [
    "import cv2 as cv\n",
    "import numpy as np\n",
    "blank=np.zeros((400,400),dtype='uint8')\n",
    "\n",
    "rectangle=cv.rectangle(blank.copy(),(30,30),(370,370),255,-1)\n",
    "circle=cv.circle(blank.copy(),(200,200),200,255,-1)\n",
    "\n",
    "cv.imshow('Rectangle',rectangle)\n",
    "cv.imshow('Circle',circle)\n",
    "\n",
    "# Bitwise AND\n",
    "bitwise_and=cv.bitwise_and(rectangle,circle)\n",
    "cv.imshow('Bitwise And',bitwise_and)\n",
    "\n",
    "# Bitwise OR\n",
    "bitwise_or=cv.bitwise_or(rectangle,circle)\n",
    "cv.imshow('Bitwise OR',bitwise_or)\n",
    "\n",
    "# Bitwise XOR\n",
    "bitwise_xor=cv.bitwise_xor(rectangle,circle)\n",
    "cv.imshow('Bitwise XOR',bitwise_xor)\n",
    "\n",
    "# Bitwise not\n",
    "bitwise_not=cv.bitwise_not(circle)\n",
    "cv.imshow('Bitwise Not',bitwise_not)\n",
    "\n",
    "cv.waitKey(0)"
   ]
  },
  {
   "cell_type": "code",
   "execution_count": 10,
   "id": "d37c88a8-5e1c-4423-9007-a6a4e26eae92",
   "metadata": {},
   "outputs": [
    {
     "data": {
      "text/plain": [
       "-1"
      ]
     },
     "execution_count": 10,
     "metadata": {},
     "output_type": "execute_result"
    }
   ],
   "source": [
    "import cv2 as cv\n",
    "import numpy as np\n",
    "\n",
    "img=cv.imread('peacock.jpg')\n",
    "blank=np.zeros(img.shape[:2],dtype='uint8')\n",
    "cv.imshow('Blank Image',blank)\n",
    "\n",
    "mask=cv.circle(blank,(img.shape[1]//2,img.shape[0]//2),300,255,-1)\n",
    "cv.imshow('Mask',mask)\n",
    "masked=cv.bitwise_and(img,img,mask=mask)\n",
    "cv.imshow('Masked Image',masked)\n",
    "\n",
    "cv.waitKey(0)"
   ]
  },
  {
   "cell_type": "code",
   "execution_count": null,
   "id": "02b31ed8-6dc7-44fd-a040-3e5028971cb6",
   "metadata": {},
   "outputs": [],
   "source": []
  }
 ],
 "metadata": {
  "kernelspec": {
   "display_name": "Python 3 (ipykernel)",
   "language": "python",
   "name": "python3"
  },
  "language_info": {
   "codemirror_mode": {
    "name": "ipython",
    "version": 3
   },
   "file_extension": ".py",
   "mimetype": "text/x-python",
   "name": "python",
   "nbconvert_exporter": "python",
   "pygments_lexer": "ipython3",
   "version": "3.12.0"
  }
 },
 "nbformat": 4,
 "nbformat_minor": 5
}
